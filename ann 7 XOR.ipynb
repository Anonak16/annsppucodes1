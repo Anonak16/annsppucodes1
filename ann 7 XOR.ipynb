{
 "cells": [
  {
   "cell_type": "code",
   "execution_count": 1,
   "id": "880aad76",
   "metadata": {},
   "outputs": [],
   "source": [
    "import numpy as np"
   ]
  },
  {
   "cell_type": "code",
   "execution_count": 2,
   "id": "2283bf60",
   "metadata": {},
   "outputs": [],
   "source": [
    "def sigmoid(x):\n",
    "    return 1/(1 + np.exp(-x))\n",
    "\n",
    "def sigmoid_derivative(x):\n",
    "    return x * (1-x)"
   ]
  },
  {
   "cell_type": "code",
   "execution_count": 3,
   "id": "e1eca716",
   "metadata": {},
   "outputs": [],
   "source": [
    "X = np.array([[0,0],\n",
    "              [0,1],\n",
    "              [1,0],\n",
    "              [1,1]])\n",
    "\n",
    "y = np.array([[0],\n",
    "              [1],\n",
    "              [1],\n",
    "              [0]])"
   ]
  },
  {
   "cell_type": "code",
   "execution_count": 4,
   "id": "7eaf4f7a",
   "metadata": {},
   "outputs": [],
   "source": [
    "input_neurons = 2\n",
    "hidden_neurons = 2\n",
    "output_neurons = 1\n",
    "\n",
    "hidden_weights = np.random.uniform(size =(input_neurons,hidden_neurons))\n",
    "hidden_bias = np.random.uniform(size =(1,hidden_neurons))\n",
    "output_weights = np.random.uniform(size =(hidden_neurons,output_neurons))\n",
    "output_bias = np.random.uniform(size =(1,output_neurons))"
   ]
  },
  {
   "cell_type": "code",
   "execution_count": 5,
   "id": "a8a36ca5",
   "metadata": {},
   "outputs": [],
   "source": [
    "epochs = 10000\n",
    "learning_rate = 0.1\n",
    "\n",
    "for epoch in range(epochs):\n",
    "    \n",
    "    hidden_activation = sigmoid(np.dot(X,hidden_weights) + hidden_bias)\n",
    "    output_activation = sigmoid(np.dot(hidden_activation,output_weights) +output_bias)\n",
    "    \n",
    "    output_error = y - output_activation\n",
    "    output_delta = output_error * sigmoid_derivative(output_activation)\n",
    "    \n",
    "    hidden_error = output_delta.dot(output_weights.T)\n",
    "    hidden_delta = hidden_error * sigmoid_derivative(hidden_activation)\n",
    "    \n",
    "    output_weights += np.dot(hidden_activation.T,output_delta) * learning_rate\n",
    "    output_bias += np.sum(output_delta, axis=0, keepdims = True) * learning_rate\n",
    "    hidden_weights += np.dot(X.T,hidden_delta) * learning_rate\n",
    "    hidden_bias += np.sum(hidden_delta, axis = 0, keepdims = True) *learning_rate"
   ]
  },
  {
   "cell_type": "code",
   "execution_count": 6,
   "id": "5cfe9c4a",
   "metadata": {},
   "outputs": [],
   "source": [
    "hidden_layer = sigmoid(np.dot(X,hidden_weights) + hidden_bias)\n",
    "output_layer = sigmoid(np.dot(hidden_layer,output_weights) +output_bias)"
   ]
  },
  {
   "cell_type": "code",
   "execution_count": 7,
   "id": "0ab47f35",
   "metadata": {},
   "outputs": [
    {
     "name": "stdout",
     "output_type": "stream",
     "text": [
      "[0.07398377]\t\t[0]\n",
      "[0.92907977]\t\t[1]\n",
      "[0.92906935]\t\t[1]\n",
      "[0.07838658]\t\t[0]\n"
     ]
    }
   ],
   "source": [
    "for i in range(len(y)):\n",
    "    print(f\"{output_layer[i]}\\t\\t{y[i]}\")"
   ]
  },
  {
   "cell_type": "code",
   "execution_count": null,
   "id": "b1daaa68",
   "metadata": {},
   "outputs": [],
   "source": []
  }
 ],
 "metadata": {
  "kernelspec": {
   "display_name": "Python 3 (ipykernel)",
   "language": "python",
   "name": "python3"
  },
  "language_info": {
   "codemirror_mode": {
    "name": "ipython",
    "version": 3
   },
   "file_extension": ".py",
   "mimetype": "text/x-python",
   "name": "python",
   "nbconvert_exporter": "python",
   "pygments_lexer": "ipython3",
   "version": "3.11.5"
  }
 },
 "nbformat": 4,
 "nbformat_minor": 5
}
