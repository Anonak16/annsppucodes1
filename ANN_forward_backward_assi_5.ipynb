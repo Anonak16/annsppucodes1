{
 "cells": [
  {
   "cell_type": "code",
   "execution_count": 2,
   "id": "44597586",
   "metadata": {},
   "outputs": [
    {
     "name": "stdout",
     "output_type": "stream",
     "text": [
      "Will play\n"
     ]
    }
   ],
   "source": [
    "import pandas as pd\n",
    "import numpy as np\n",
    "\n",
    "\n",
    "class NeuralNet:\n",
    "    def __init__(self):\n",
    "        np.random.seed(1)\n",
    "        self.weights = np.random.random((4,1))-1 #weigths from the range -1 to 1\n",
    "        \n",
    "    def Sigmoid(self,x):\n",
    "        return 1/(1+np.exp(-x))\n",
    "        \n",
    "    def Sig_derivative(self,x):\n",
    "        return x*(1-x)\n",
    "        \n",
    "    #forward propagation\n",
    "        \n",
    "    def train(self,inputs,outputs,epochs):\n",
    "        for _ in range(epochs):\n",
    "            input_layer = inputs\n",
    "            output_layer = self.Sigmoid(np.dot(input_layer,self.weights))  # why there is no need of self.input_layer \n",
    "           \n",
    "        \n",
    "            #error \n",
    "            e=outputs-output_layer \n",
    "        \n",
    "            #adjustments backward progation\n",
    "        \n",
    "            adjustment = np.dot(input_layer.T,e*self.Sig_derivative(output_layer))\n",
    "            self.weights+=adjustment\n",
    "        \n",
    "    \n",
    "#data preprocessing\n",
    "\n",
    "data = {\n",
    "    'day': ['D1', 'D2', 'D3', 'D4', 'D5', 'D6', 'D7', 'D8', 'D9', 'D10', 'D11', 'D12', 'D13', 'D14'],\n",
    "    'outlook': ['Sunny', 'Sunny', 'Overcast', 'Rain', 'Rain', 'Rain', 'Overcast', 'Sunny', 'Sunny', 'Rain', 'Sunny', 'Overcast', 'Overcast', 'Rain'],\n",
    "    'temp': ['Hot', 'Hot', 'Hot', 'Mild', 'Cool', 'Cool', 'Cool', 'Mild', 'Cool', 'Mild', 'Mild', 'Mild', 'Hot', 'Mild'],\n",
    "    'humidity': ['High', 'High', 'High', 'High', 'Normal', 'Normal', 'Normal', 'High', 'Normal', 'Normal', 'Normal', 'High', 'Normal', 'High'],\n",
    "    'wind': ['Weak', 'Strong', 'Weak', 'Weak', 'Weak', 'Strong', 'Strong', 'Weak', 'Weak', 'Weak', 'Strong', 'Strong', 'Weak', 'Strong'],\n",
    "    'play': ['No', 'No', 'Yes', 'Yes', 'Yes', 'No', 'Yes', 'No', 'Yes', 'Yes', 'Yes', 'Yes', 'Yes', 'No']\n",
    "}\n",
    "\n",
    "df = pd.DataFrame(data)\n",
    "\n",
    "df.replace({\"Sunny\":-1,\"Overcast\":0,\"Rain\":1,\n",
    "            \"Hot\":-1,\"Mild\":0,\"Cool\":1,\n",
    "            \"High\":-1,\"Normal\":0,\n",
    "            \"Weak\":-1,\"Strong\":0,\n",
    "            \"No\":0,\"Yes\":1},inplace=True)\n",
    "\n",
    "inputs=df[['outlook' ,'temp','humidity','wind']]\n",
    "outputs=df['play'].values.reshape(-1,1)\n",
    "\n",
    "\n",
    "#object creation\n",
    "\n",
    "neural = NeuralNet()\n",
    "\n",
    "neural.train(inputs,outputs,epochs=10000)\n",
    "\n",
    "new_input = np.array([[-1,0,-1,-1]])\n",
    "predicted_output = neural.Sigmoid(np.dot(new_input,neural.weights))\n",
    "\n",
    "if predicted_output>=0.5:\n",
    "    print(\"Will play\")\n",
    "    \n",
    "else:\n",
    "    print(\"Will not play\")\n",
    "\n",
    "\n",
    "        \n",
    "    \n"
   ]
  },
  {
   "cell_type": "code",
   "execution_count": null,
   "id": "fe028b8b",
   "metadata": {},
   "outputs": [],
   "source": []
  }
 ],
 "metadata": {
  "kernelspec": {
   "display_name": "Python 3 (ipykernel)",
   "language": "python",
   "name": "python3"
  },
  "language_info": {
   "codemirror_mode": {
    "name": "ipython",
    "version": 3
   },
   "file_extension": ".py",
   "mimetype": "text/x-python",
   "name": "python",
   "nbconvert_exporter": "python",
   "pygments_lexer": "ipython3",
   "version": "3.9.12"
  }
 },
 "nbformat": 4,
 "nbformat_minor": 5
}
